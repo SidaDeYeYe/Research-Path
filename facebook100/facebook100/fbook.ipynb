{
 "cells": [
  {
   "cell_type": "code",
   "execution_count": 11,
   "metadata": {},
   "outputs": [],
   "source": [
    "import os\n",
    "import numpy as np\n",
    "import pandas as pd"
   ]
  },
  {
   "cell_type": "code",
   "execution_count": 12,
   "metadata": {},
   "outputs": [
    {
     "output_type": "execute_result",
     "data": {
      "text/plain": "         Type    Network Name   connection  nodes   edges  \\\n0  undirected   1bingham82Rel  unconnected  10004  362894   \n1  undirected   2bowdoin47Rel  unconnected   2252   84387   \n2  undirected  3brandeis99Rel  unconnected   3898  137567   \n3  undirected     4brown11Rel  unconnected   8600  384526   \n4  undirected  5bucknell39Rel  unconnected   3826  158864   \n\n   average shortest path(of subgraphs)  over-all average clusteringdegree  \\\n0                             2.477634                           0.222889   \n1                             2.223140                           0.288719   \n2                             1.981479                           0.262103   \n3                             2.394555                           0.217382   \n4                             2.139104                           0.278460   \n\n   over-all median clusteringdegree  35% average clusteringdegree  \\\n0                          0.183824                      0.375593   \n1                          0.268838                      0.410020   \n2                          0.235294                      0.401298   \n3                          0.183333                      0.351249   \n4                          0.248184                      0.413032   \n\n   35% median clusteringdegree  50% average clusteringdegree  \\\n0                     0.318991                      0.324402   \n1                     0.364202                      0.372620   \n2                     0.343668                      0.356770   \n3                     0.290967                      0.305745   \n4                     0.359623                      0.369063   \n\n   50% median clusteringdegree  core number over medium  core_number average  \\\n0                     0.273008                     44.0            37.896441   \n1                     0.333333                     49.0            41.308615   \n2                     0.307692                     43.0            37.714726   \n3                     0.252714                     56.0            46.908023   \n4                     0.322638                     51.0            44.236539   \n\n   Number of triangles  diameter  number of Communities  \\\n0              7163862       NaN                      9   \n1              2131455       NaN                      7   \n2              3056655       NaN                     12   \n3              8858001       NaN                     15   \n4              3981768       NaN                      7   \n\n   number of nodes in the largest community  Unnamed: 18    location  \n0                                      1906          NaN  west coast  \n1                                       698          NaN  east coast  \n2                                      1077          NaN  east coast  \n3                                      1856          NaN  west coast  \n4                                       883          NaN  east coast  ",
      "text/html": "<div>\n<style scoped>\n    .dataframe tbody tr th:only-of-type {\n        vertical-align: middle;\n    }\n\n    .dataframe tbody tr th {\n        vertical-align: top;\n    }\n\n    .dataframe thead th {\n        text-align: right;\n    }\n</style>\n<table border=\"1\" class=\"dataframe\">\n  <thead>\n    <tr style=\"text-align: right;\">\n      <th></th>\n      <th>Type</th>\n      <th>Network Name</th>\n      <th>connection</th>\n      <th>nodes</th>\n      <th>edges</th>\n      <th>average shortest path(of subgraphs)</th>\n      <th>over-all average clusteringdegree</th>\n      <th>over-all median clusteringdegree</th>\n      <th>35% average clusteringdegree</th>\n      <th>35% median clusteringdegree</th>\n      <th>50% average clusteringdegree</th>\n      <th>50% median clusteringdegree</th>\n      <th>core number over medium</th>\n      <th>core_number average</th>\n      <th>Number of triangles</th>\n      <th>diameter</th>\n      <th>number of Communities</th>\n      <th>number of nodes in the largest community</th>\n      <th>Unnamed: 18</th>\n      <th>location</th>\n    </tr>\n  </thead>\n  <tbody>\n    <tr>\n      <th>0</th>\n      <td>undirected</td>\n      <td>1bingham82Rel</td>\n      <td>unconnected</td>\n      <td>10004</td>\n      <td>362894</td>\n      <td>2.477634</td>\n      <td>0.222889</td>\n      <td>0.183824</td>\n      <td>0.375593</td>\n      <td>0.318991</td>\n      <td>0.324402</td>\n      <td>0.273008</td>\n      <td>44.0</td>\n      <td>37.896441</td>\n      <td>7163862</td>\n      <td>NaN</td>\n      <td>9</td>\n      <td>1906</td>\n      <td>NaN</td>\n      <td>west coast</td>\n    </tr>\n    <tr>\n      <th>1</th>\n      <td>undirected</td>\n      <td>2bowdoin47Rel</td>\n      <td>unconnected</td>\n      <td>2252</td>\n      <td>84387</td>\n      <td>2.223140</td>\n      <td>0.288719</td>\n      <td>0.268838</td>\n      <td>0.410020</td>\n      <td>0.364202</td>\n      <td>0.372620</td>\n      <td>0.333333</td>\n      <td>49.0</td>\n      <td>41.308615</td>\n      <td>2131455</td>\n      <td>NaN</td>\n      <td>7</td>\n      <td>698</td>\n      <td>NaN</td>\n      <td>east coast</td>\n    </tr>\n    <tr>\n      <th>2</th>\n      <td>undirected</td>\n      <td>3brandeis99Rel</td>\n      <td>unconnected</td>\n      <td>3898</td>\n      <td>137567</td>\n      <td>1.981479</td>\n      <td>0.262103</td>\n      <td>0.235294</td>\n      <td>0.401298</td>\n      <td>0.343668</td>\n      <td>0.356770</td>\n      <td>0.307692</td>\n      <td>43.0</td>\n      <td>37.714726</td>\n      <td>3056655</td>\n      <td>NaN</td>\n      <td>12</td>\n      <td>1077</td>\n      <td>NaN</td>\n      <td>east coast</td>\n    </tr>\n    <tr>\n      <th>3</th>\n      <td>undirected</td>\n      <td>4brown11Rel</td>\n      <td>unconnected</td>\n      <td>8600</td>\n      <td>384526</td>\n      <td>2.394555</td>\n      <td>0.217382</td>\n      <td>0.183333</td>\n      <td>0.351249</td>\n      <td>0.290967</td>\n      <td>0.305745</td>\n      <td>0.252714</td>\n      <td>56.0</td>\n      <td>46.908023</td>\n      <td>8858001</td>\n      <td>NaN</td>\n      <td>15</td>\n      <td>1856</td>\n      <td>NaN</td>\n      <td>west coast</td>\n    </tr>\n    <tr>\n      <th>4</th>\n      <td>undirected</td>\n      <td>5bucknell39Rel</td>\n      <td>unconnected</td>\n      <td>3826</td>\n      <td>158864</td>\n      <td>2.139104</td>\n      <td>0.278460</td>\n      <td>0.248184</td>\n      <td>0.413032</td>\n      <td>0.359623</td>\n      <td>0.369063</td>\n      <td>0.322638</td>\n      <td>51.0</td>\n      <td>44.236539</td>\n      <td>3981768</td>\n      <td>NaN</td>\n      <td>7</td>\n      <td>883</td>\n      <td>NaN</td>\n      <td>east coast</td>\n    </tr>\n  </tbody>\n</table>\n</div>"
     },
     "metadata": {},
     "execution_count": 12
    }
   ],
   "source": [
    "df = pd.read_csv(\"coast.csv\")\n",
    "df.head(5)"
   ]
  },
  {
   "cell_type": "code",
   "execution_count": 13,
   "metadata": {},
   "outputs": [],
   "source": [
    "columns = df.columns.tolist()\n",
    "data_train = df[[columns[i] for i in range(2, 18) if i != 15]].copy()\n",
    "data_label = df[columns[-1]].copy()"
   ]
  },
  {
   "cell_type": "code",
   "execution_count": 14,
   "metadata": {},
   "outputs": [
    {
     "output_type": "execute_result",
     "data": {
      "text/plain": "    connection  nodes   edges  average shortest path(of subgraphs)  \\\n0  unconnected  10004  362894                             2.477634   \n1  unconnected   2252   84387                             2.223140   \n2  unconnected   3898  137567                             1.981479   \n3  unconnected   8600  384526                             2.394555   \n4  unconnected   3826  158864                             2.139104   \n\n   over-all average clusteringdegree  over-all median clusteringdegree  \\\n0                           0.222889                          0.183824   \n1                           0.288719                          0.268838   \n2                           0.262103                          0.235294   \n3                           0.217382                          0.183333   \n4                           0.278460                          0.248184   \n\n   35% average clusteringdegree  35% median clusteringdegree  \\\n0                      0.375593                     0.318991   \n1                      0.410020                     0.364202   \n2                      0.401298                     0.343668   \n3                      0.351249                     0.290967   \n4                      0.413032                     0.359623   \n\n   50% average clusteringdegree  50% median clusteringdegree  \\\n0                      0.324402                     0.273008   \n1                      0.372620                     0.333333   \n2                      0.356770                     0.307692   \n3                      0.305745                     0.252714   \n4                      0.369063                     0.322638   \n\n   core number over medium  core_number average  Number of triangles  \\\n0                     44.0            37.896441              7163862   \n1                     49.0            41.308615              2131455   \n2                     43.0            37.714726              3056655   \n3                     56.0            46.908023              8858001   \n4                     51.0            44.236539              3981768   \n\n   number of Communities  number of nodes in the largest community  \n0                      9                                      1906  \n1                      7                                       698  \n2                     12                                      1077  \n3                     15                                      1856  \n4                      7                                       883  ",
      "text/html": "<div>\n<style scoped>\n    .dataframe tbody tr th:only-of-type {\n        vertical-align: middle;\n    }\n\n    .dataframe tbody tr th {\n        vertical-align: top;\n    }\n\n    .dataframe thead th {\n        text-align: right;\n    }\n</style>\n<table border=\"1\" class=\"dataframe\">\n  <thead>\n    <tr style=\"text-align: right;\">\n      <th></th>\n      <th>connection</th>\n      <th>nodes</th>\n      <th>edges</th>\n      <th>average shortest path(of subgraphs)</th>\n      <th>over-all average clusteringdegree</th>\n      <th>over-all median clusteringdegree</th>\n      <th>35% average clusteringdegree</th>\n      <th>35% median clusteringdegree</th>\n      <th>50% average clusteringdegree</th>\n      <th>50% median clusteringdegree</th>\n      <th>core number over medium</th>\n      <th>core_number average</th>\n      <th>Number of triangles</th>\n      <th>number of Communities</th>\n      <th>number of nodes in the largest community</th>\n    </tr>\n  </thead>\n  <tbody>\n    <tr>\n      <th>0</th>\n      <td>unconnected</td>\n      <td>10004</td>\n      <td>362894</td>\n      <td>2.477634</td>\n      <td>0.222889</td>\n      <td>0.183824</td>\n      <td>0.375593</td>\n      <td>0.318991</td>\n      <td>0.324402</td>\n      <td>0.273008</td>\n      <td>44.0</td>\n      <td>37.896441</td>\n      <td>7163862</td>\n      <td>9</td>\n      <td>1906</td>\n    </tr>\n    <tr>\n      <th>1</th>\n      <td>unconnected</td>\n      <td>2252</td>\n      <td>84387</td>\n      <td>2.223140</td>\n      <td>0.288719</td>\n      <td>0.268838</td>\n      <td>0.410020</td>\n      <td>0.364202</td>\n      <td>0.372620</td>\n      <td>0.333333</td>\n      <td>49.0</td>\n      <td>41.308615</td>\n      <td>2131455</td>\n      <td>7</td>\n      <td>698</td>\n    </tr>\n    <tr>\n      <th>2</th>\n      <td>unconnected</td>\n      <td>3898</td>\n      <td>137567</td>\n      <td>1.981479</td>\n      <td>0.262103</td>\n      <td>0.235294</td>\n      <td>0.401298</td>\n      <td>0.343668</td>\n      <td>0.356770</td>\n      <td>0.307692</td>\n      <td>43.0</td>\n      <td>37.714726</td>\n      <td>3056655</td>\n      <td>12</td>\n      <td>1077</td>\n    </tr>\n    <tr>\n      <th>3</th>\n      <td>unconnected</td>\n      <td>8600</td>\n      <td>384526</td>\n      <td>2.394555</td>\n      <td>0.217382</td>\n      <td>0.183333</td>\n      <td>0.351249</td>\n      <td>0.290967</td>\n      <td>0.305745</td>\n      <td>0.252714</td>\n      <td>56.0</td>\n      <td>46.908023</td>\n      <td>8858001</td>\n      <td>15</td>\n      <td>1856</td>\n    </tr>\n    <tr>\n      <th>4</th>\n      <td>unconnected</td>\n      <td>3826</td>\n      <td>158864</td>\n      <td>2.139104</td>\n      <td>0.278460</td>\n      <td>0.248184</td>\n      <td>0.413032</td>\n      <td>0.359623</td>\n      <td>0.369063</td>\n      <td>0.322638</td>\n      <td>51.0</td>\n      <td>44.236539</td>\n      <td>3981768</td>\n      <td>7</td>\n      <td>883</td>\n    </tr>\n  </tbody>\n</table>\n</div>"
     },
     "metadata": {},
     "execution_count": 14
    }
   ],
   "source": [
    "data_train.head(5)"
   ]
  },
  {
   "cell_type": "code",
   "execution_count": 15,
   "metadata": {},
   "outputs": [
    {
     "output_type": "execute_result",
     "data": {
      "text/plain": "0    west coast\n1    east coast\n2    east coast\n3    west coast\n4    east coast\nName: location, dtype: object"
     },
     "metadata": {},
     "execution_count": 15
    }
   ],
   "source": [
    "data_label.head(5)"
   ]
  },
  {
   "cell_type": "code",
   "execution_count": 16,
   "metadata": {},
   "outputs": [],
   "source": [
    "data_train_processed = data_train.replace(\"unconnected\", 0)\n",
    "data_train_processed = data_train_processed.replace(\"disconnected\", 0)\n",
    "data_train_processed = data_train_processed.replace(\"connected\", 1)"
   ]
  },
  {
   "cell_type": "code",
   "execution_count": 17,
   "metadata": {},
   "outputs": [
    {
     "output_type": "execute_result",
     "data": {
      "text/plain": "   connection  nodes   edges  average shortest path(of subgraphs)  \\\n0           0  10004  362894                             2.477634   \n1           0   2252   84387                             2.223140   \n2           0   3898  137567                             1.981479   \n3           0   8600  384526                             2.394555   \n4           0   3826  158864                             2.139104   \n\n   over-all average clusteringdegree  over-all median clusteringdegree  \\\n0                           0.222889                          0.183824   \n1                           0.288719                          0.268838   \n2                           0.262103                          0.235294   \n3                           0.217382                          0.183333   \n4                           0.278460                          0.248184   \n\n   35% average clusteringdegree  35% median clusteringdegree  \\\n0                      0.375593                     0.318991   \n1                      0.410020                     0.364202   \n2                      0.401298                     0.343668   \n3                      0.351249                     0.290967   \n4                      0.413032                     0.359623   \n\n   50% average clusteringdegree  50% median clusteringdegree  \\\n0                      0.324402                     0.273008   \n1                      0.372620                     0.333333   \n2                      0.356770                     0.307692   \n3                      0.305745                     0.252714   \n4                      0.369063                     0.322638   \n\n   core number over medium  core_number average  Number of triangles  \\\n0                     44.0            37.896441              7163862   \n1                     49.0            41.308615              2131455   \n2                     43.0            37.714726              3056655   \n3                     56.0            46.908023              8858001   \n4                     51.0            44.236539              3981768   \n\n   number of Communities  number of nodes in the largest community  \n0                      9                                      1906  \n1                      7                                       698  \n2                     12                                      1077  \n3                     15                                      1856  \n4                      7                                       883  ",
      "text/html": "<div>\n<style scoped>\n    .dataframe tbody tr th:only-of-type {\n        vertical-align: middle;\n    }\n\n    .dataframe tbody tr th {\n        vertical-align: top;\n    }\n\n    .dataframe thead th {\n        text-align: right;\n    }\n</style>\n<table border=\"1\" class=\"dataframe\">\n  <thead>\n    <tr style=\"text-align: right;\">\n      <th></th>\n      <th>connection</th>\n      <th>nodes</th>\n      <th>edges</th>\n      <th>average shortest path(of subgraphs)</th>\n      <th>over-all average clusteringdegree</th>\n      <th>over-all median clusteringdegree</th>\n      <th>35% average clusteringdegree</th>\n      <th>35% median clusteringdegree</th>\n      <th>50% average clusteringdegree</th>\n      <th>50% median clusteringdegree</th>\n      <th>core number over medium</th>\n      <th>core_number average</th>\n      <th>Number of triangles</th>\n      <th>number of Communities</th>\n      <th>number of nodes in the largest community</th>\n    </tr>\n  </thead>\n  <tbody>\n    <tr>\n      <th>0</th>\n      <td>0</td>\n      <td>10004</td>\n      <td>362894</td>\n      <td>2.477634</td>\n      <td>0.222889</td>\n      <td>0.183824</td>\n      <td>0.375593</td>\n      <td>0.318991</td>\n      <td>0.324402</td>\n      <td>0.273008</td>\n      <td>44.0</td>\n      <td>37.896441</td>\n      <td>7163862</td>\n      <td>9</td>\n      <td>1906</td>\n    </tr>\n    <tr>\n      <th>1</th>\n      <td>0</td>\n      <td>2252</td>\n      <td>84387</td>\n      <td>2.223140</td>\n      <td>0.288719</td>\n      <td>0.268838</td>\n      <td>0.410020</td>\n      <td>0.364202</td>\n      <td>0.372620</td>\n      <td>0.333333</td>\n      <td>49.0</td>\n      <td>41.308615</td>\n      <td>2131455</td>\n      <td>7</td>\n      <td>698</td>\n    </tr>\n    <tr>\n      <th>2</th>\n      <td>0</td>\n      <td>3898</td>\n      <td>137567</td>\n      <td>1.981479</td>\n      <td>0.262103</td>\n      <td>0.235294</td>\n      <td>0.401298</td>\n      <td>0.343668</td>\n      <td>0.356770</td>\n      <td>0.307692</td>\n      <td>43.0</td>\n      <td>37.714726</td>\n      <td>3056655</td>\n      <td>12</td>\n      <td>1077</td>\n    </tr>\n    <tr>\n      <th>3</th>\n      <td>0</td>\n      <td>8600</td>\n      <td>384526</td>\n      <td>2.394555</td>\n      <td>0.217382</td>\n      <td>0.183333</td>\n      <td>0.351249</td>\n      <td>0.290967</td>\n      <td>0.305745</td>\n      <td>0.252714</td>\n      <td>56.0</td>\n      <td>46.908023</td>\n      <td>8858001</td>\n      <td>15</td>\n      <td>1856</td>\n    </tr>\n    <tr>\n      <th>4</th>\n      <td>0</td>\n      <td>3826</td>\n      <td>158864</td>\n      <td>2.139104</td>\n      <td>0.278460</td>\n      <td>0.248184</td>\n      <td>0.413032</td>\n      <td>0.359623</td>\n      <td>0.369063</td>\n      <td>0.322638</td>\n      <td>51.0</td>\n      <td>44.236539</td>\n      <td>3981768</td>\n      <td>7</td>\n      <td>883</td>\n    </tr>\n  </tbody>\n</table>\n</div>"
     },
     "metadata": {},
     "execution_count": 17
    }
   ],
   "source": [
    "data_train_processed.head(5)"
   ]
  },
  {
   "cell_type": "code",
   "execution_count": 18,
   "metadata": {},
   "outputs": [],
   "source": [
    "data_label_processed = data_label.replace(\"west coast\", 1)\n",
    "data_label_processed = data_label_processed.replace(\"east coast\", 2)\n",
    "data_label_processed = data_label_processed.replace(\"middle\", 0)"
   ]
  },
  {
   "cell_type": "code",
   "execution_count": 19,
   "metadata": {},
   "outputs": [
    {
     "output_type": "execute_result",
     "data": {
      "text/plain": "0    1\n1    2\n2    2\n3    1\n4    2\nName: location, dtype: int64"
     },
     "metadata": {},
     "execution_count": 19
    }
   ],
   "source": [
    "data_label_processed.head(5)"
   ]
  },
  {
   "cell_type": "code",
   "execution_count": 20,
   "metadata": {},
   "outputs": [],
   "source": [
    "from sklearn.neighbors import KNeighborsClassifier\n",
    "from sklearn.model_selection import cross_val_score"
   ]
  },
  {
   "cell_type": "code",
   "execution_count": 21,
   "metadata": {},
   "outputs": [],
   "source": [
    "from imblearn.over_sampling import SMOTE"
   ]
  },
  {
   "cell_type": "code",
   "execution_count": 22,
   "metadata": {},
   "outputs": [
    {
     "output_type": "execute_result",
     "data": {
      "text/plain": "[array([0.71428571, 0.57142857, 0.57142857, 0.85714286, 0.71428571,\n        0.57142857, 0.71428571, 0.85714286, 0.85714286, 0.66666667]),\n array([0.71428571, 0.71428571, 0.71428571, 0.71428571, 0.71428571,\n        0.57142857, 0.57142857, 0.42857143, 0.85714286, 0.5       ]),\n array([0.71428571, 0.71428571, 0.57142857, 0.71428571, 0.71428571,\n        0.57142857, 0.57142857, 0.71428571, 0.71428571, 0.83333333]),\n array([0.71428571, 0.57142857, 0.71428571, 0.57142857, 0.71428571,\n        0.71428571, 0.85714286, 0.85714286, 0.57142857, 0.66666667]),\n array([0.71428571, 0.71428571, 0.71428571, 0.71428571, 0.42857143,\n        0.71428571, 0.57142857, 0.71428571, 0.28571429, 0.66666667]),\n array([0.71428571, 0.85714286, 0.57142857, 0.71428571, 0.57142857,\n        0.42857143, 0.71428571, 0.57142857, 0.71428571, 0.66666667]),\n array([0.57142857, 0.71428571, 0.57142857, 0.71428571, 0.71428571,\n        0.71428571, 0.71428571, 0.71428571, 0.85714286, 0.66666667])]"
     },
     "metadata": {},
     "execution_count": 22
    }
   ],
   "source": [
    "total_scores = []\n",
    "X_data = data_train_processed.to_numpy()\n",
    "y_data = data_label_processed.to_numpy()\n",
    "for _ in range(7):\n",
    "    rnd = np.random.permutation(len(y_data))\n",
    "    X = X_data[rnd]\n",
    "    y = y_data[rnd]\n",
    "    total_scores.append(cross_val_score(KNeighborsClassifier(), X, y, cv=10))\n",
    "total_scores"
   ]
  },
  {
   "cell_type": "code",
   "execution_count": 23,
   "metadata": {},
   "outputs": [
    {
     "output_type": "execute_result",
     "data": {
      "text/plain": "[0.7095238095238094,\n 0.6499999999999999,\n 0.6833333333333333,\n 0.6952380952380952,\n 0.6238095238095238,\n 0.6523809523809524,\n 0.6952380952380952]"
     },
     "metadata": {},
     "execution_count": 23
    }
   ],
   "source": [
    "[x.mean() for x in total_scores]"
   ]
  },
  {
   "cell_type": "code",
   "execution_count": 24,
   "metadata": {},
   "outputs": [
    {
     "output_type": "execute_result",
     "data": {
      "text/plain": "0.6727891156462585"
     },
     "metadata": {},
     "execution_count": 24
    }
   ],
   "source": [
    "a = [x.mean() for x in total_scores]\n",
    "sum(a) / len(a)"
   ]
  },
  {
   "cell_type": "code",
   "execution_count": 30,
   "metadata": {},
   "outputs": [
    {
     "output_type": "execute_result",
     "data": {
      "text/plain": "[array([0.8       , 0.73333333, 0.86666667, 0.6       , 0.8       ,\n        0.8       , 0.73333333, 0.71428571, 0.85714286, 0.78571429]),\n array([0.73333333, 0.8       , 0.66666667, 0.86666667, 0.8       ,\n        0.86666667, 0.73333333, 0.71428571, 0.78571429, 0.71428571]),\n array([0.66666667, 0.73333333, 0.8       , 0.73333333, 0.86666667,\n        0.86666667, 0.86666667, 0.85714286, 0.64285714, 0.85714286]),\n array([0.8       , 0.66666667, 0.73333333, 0.6       , 0.73333333,\n        0.86666667, 0.86666667, 0.78571429, 0.92857143, 0.85714286]),\n array([0.8       , 0.93333333, 0.73333333, 0.53333333, 0.66666667,\n        1.        , 0.66666667, 0.71428571, 0.78571429, 0.85714286]),\n array([0.6       , 0.8       , 0.8       , 0.8       , 0.66666667,\n        0.86666667, 0.73333333, 0.57142857, 0.78571429, 0.78571429]),\n array([0.6       , 0.66666667, 0.8       , 0.8       , 0.93333333,\n        0.86666667, 0.8       , 0.78571429, 0.92857143, 0.64285714])]"
     },
     "metadata": {},
     "execution_count": 30
    }
   ],
   "source": [
    "total_scores = []\n",
    "X_data = data_train_processed.to_numpy()\n",
    "y_data = data_label_processed.to_numpy()\n",
    "sm = SMOTE(k_neighbors=2)\n",
    "X_data_res, y_data_res = sm.fit_resample(X_data, y_data)\n",
    "for _ in range(7):\n",
    "    rnd = np.random.permutation(len(y_data_res))\n",
    "    X = X_data_res[rnd]\n",
    "    y = y_data_res[rnd]\n",
    "    total_scores.append(cross_val_score(KNeighborsClassifier(), X, y, cv=10))\n",
    "total_scores"
   ]
  },
  {
   "cell_type": "code",
   "execution_count": 31,
   "metadata": {},
   "outputs": [
    {
     "output_type": "execute_result",
     "data": {
      "text/plain": "0.7717687074829931"
     },
     "metadata": {},
     "execution_count": 31
    }
   ],
   "source": [
    "a = [x.mean() for x in total_scores]\n",
    "sum(a) / len(a)"
   ]
  },
  {
   "cell_type": "code",
   "execution_count": 32,
   "metadata": {},
   "outputs": [
    {
     "output_type": "execute_result",
     "data": {
      "text/plain": "[array([0.93333333, 0.86666667, 0.8       , 0.73333333, 0.8       ,\n        0.93333333, 0.73333333, 0.86666667, 0.86666667, 0.78571429]),\n array([0.86666667, 0.8       , 0.86666667, 0.93333333, 0.73333333,\n        0.93333333, 0.86666667, 0.86666667, 0.8       , 0.71428571]),\n array([0.73333333, 0.73333333, 0.86666667, 0.86666667, 0.86666667,\n        0.8       , 0.93333333, 0.8       , 0.86666667, 0.71428571]),\n array([0.6       , 0.53333333, 0.86666667, 0.93333333, 0.93333333,\n        0.86666667, 0.8       , 0.86666667, 0.8       , 1.        ]),\n array([0.93333333, 0.66666667, 0.93333333, 0.8       , 0.73333333,\n        0.8       , 0.73333333, 0.93333333, 1.        , 0.78571429]),\n array([0.86666667, 0.86666667, 0.66666667, 0.8       , 0.93333333,\n        0.86666667, 0.73333333, 0.86666667, 0.8       , 0.85714286]),\n array([0.8       , 0.86666667, 0.8       , 0.86666667, 0.93333333,\n        0.86666667, 0.8       , 0.8       , 0.86666667, 0.71428571])]"
     },
     "metadata": {},
     "execution_count": 32
    }
   ],
   "source": [
    "from imblearn.over_sampling import KMeansSMOTE, ADASYN, BorderlineSMOTE\n",
    "total_scores = []\n",
    "X_data = data_train_processed.to_numpy()\n",
    "y_data = data_label_processed.to_numpy()\n",
    "sm = KMeansSMOTE(k_neighbors=2)\n",
    "X_data_res, y_data_res = sm.fit_resample(X_data, y_data)\n",
    "for _ in range(7):\n",
    "    rnd = np.random.permutation(len(y_data_res))\n",
    "    X = X_data_res[rnd]\n",
    "    y = y_data_res[rnd]\n",
    "    total_scores.append(cross_val_score(KNeighborsClassifier(), X, y, cv=10))\n",
    "total_scores\n"
   ]
  },
  {
   "cell_type": "code",
   "execution_count": 34,
   "metadata": {},
   "outputs": [
    {
     "output_type": "execute_result",
     "data": {
      "text/plain": "0.8281632653061225"
     },
     "metadata": {},
     "execution_count": 34
    }
   ],
   "source": [
    "a = [x.mean() for x in total_scores]\n",
    "sum(a) / len(a)"
   ]
  },
  {
   "cell_type": "code",
   "execution_count": 35,
   "metadata": {},
   "outputs": [
    {
     "output_type": "execute_result",
     "data": {
      "text/plain": "[array([0.6       , 0.86666667, 0.53333333, 0.73333333, 0.6       ,\n        0.86666667, 0.73333333, 0.64285714, 0.71428571, 0.78571429]),\n array([0.93333333, 0.73333333, 0.46666667, 0.73333333, 0.6       ,\n        0.66666667, 0.6       , 0.78571429, 0.57142857, 0.85714286]),\n array([0.73333333, 0.8       , 0.73333333, 0.53333333, 0.73333333,\n        0.53333333, 0.8       , 0.64285714, 0.64285714, 0.64285714]),\n array([0.86666667, 0.6       , 0.66666667, 0.46666667, 0.73333333,\n        0.8       , 0.6       , 0.71428571, 0.78571429, 0.85714286]),\n array([0.66666667, 0.53333333, 0.66666667, 0.73333333, 0.73333333,\n        0.86666667, 0.66666667, 0.71428571, 0.78571429, 0.5       ]),\n array([0.66666667, 0.66666667, 0.53333333, 0.73333333, 0.66666667,\n        0.6       , 1.        , 0.71428571, 0.57142857, 0.71428571]),\n array([0.66666667, 0.73333333, 0.6       , 0.6       , 0.8       ,\n        0.66666667, 0.73333333, 0.71428571, 0.64285714, 0.78571429])]"
     },
     "metadata": {},
     "execution_count": 35
    }
   ],
   "source": [
    "total_scores = []\n",
    "X_data = data_train_processed.to_numpy()\n",
    "y_data = data_label_processed.to_numpy()\n",
    "sm = ADASYN(n_neighbors=2)\n",
    "X_data_res, y_data_res = sm.fit_resample(X_data, y_data)\n",
    "for _ in range(7):\n",
    "    rnd = np.random.permutation(len(y_data_res))\n",
    "    X = X_data_res[rnd]\n",
    "    y = y_data_res[rnd]\n",
    "    total_scores.append(cross_val_score(KNeighborsClassifier(), X, y, cv=10))\n",
    "total_scores\n"
   ]
  },
  {
   "cell_type": "code",
   "execution_count": null,
   "metadata": {},
   "outputs": [],
   "source": [
    "a = [x.mean() for x in total_scores]\n",
    "sum(a) / len(a)"
   ]
  },
  {
   "cell_type": "code",
   "execution_count": 37,
   "metadata": {},
   "outputs": [
    {
     "output_type": "execute_result",
     "data": {
      "text/plain": "[array([0.8       , 0.66666667, 0.73333333, 0.8       , 0.66666667,\n        0.73333333, 0.66666667, 0.71428571, 0.64285714, 0.78571429]),\n array([0.73333333, 0.8       , 0.53333333, 0.86666667, 0.8       ,\n        0.73333333, 0.8       , 0.78571429, 0.85714286, 0.71428571]),\n array([0.73333333, 0.73333333, 0.86666667, 0.66666667, 0.66666667,\n        0.66666667, 0.73333333, 0.78571429, 0.85714286, 0.78571429]),\n array([0.66666667, 0.86666667, 0.66666667, 0.8       , 0.6       ,\n        0.86666667, 0.73333333, 0.78571429, 0.71428571, 0.85714286]),\n array([0.73333333, 0.86666667, 0.73333333, 0.66666667, 0.73333333,\n        0.8       , 0.73333333, 0.57142857, 0.78571429, 0.71428571]),\n array([0.66666667, 0.86666667, 0.6       , 0.86666667, 0.8       ,\n        0.6       , 0.6       , 0.71428571, 0.85714286, 0.85714286]),\n array([0.73333333, 0.66666667, 0.73333333, 0.8       , 0.8       ,\n        0.73333333, 0.73333333, 0.78571429, 0.5       , 0.92857143])]"
     },
     "metadata": {},
     "execution_count": 37
    }
   ],
   "source": [
    "total_scores = []\n",
    "X_data = data_train_processed.to_numpy()\n",
    "y_data = data_label_processed.to_numpy()\n",
    "sm = BorderlineSMOTE(k_neighbors=2)\n",
    "X_data_res, y_data_res = sm.fit_resample(X_data, y_data)\n",
    "for _ in range(7):\n",
    "    rnd = np.random.permutation(len(y_data_res))\n",
    "    X = X_data_res[rnd]\n",
    "    y = y_data_res[rnd]\n",
    "    total_scores.append(cross_val_score(KNeighborsClassifier(), X, y, cv=10))\n",
    "total_scores\n"
   ]
  },
  {
   "cell_type": "code",
   "execution_count": 36,
   "metadata": {},
   "outputs": [
    {
     "output_type": "execute_result",
     "data": {
      "text/plain": "0.6940816326530612"
     },
     "metadata": {},
     "execution_count": 36
    }
   ],
   "source": [
    "a = [x.mean() for x in total_scores]\n",
    "sum(a) / len(a)"
   ]
  },
  {
   "cell_type": "code",
   "execution_count": 41,
   "metadata": {},
   "outputs": [
    {
     "output_type": "execute_result",
     "data": {
      "text/plain": "array(['west coast', 'east coast', 'middle'], dtype=object)"
     },
     "metadata": {},
     "execution_count": 41
    }
   ],
   "source": [
    "data_label.unique()"
   ]
  },
  {
   "cell_type": "code",
   "execution_count": 47,
   "metadata": {},
   "outputs": [
    {
     "output_type": "execute_result",
     "data": {
      "text/plain": "0     1\n1     2\n2     2\n3     1\n4     2\n     ..\n64    1\n65    1\n66    1\n67    2\n68    2\nName: location, Length: 69, dtype: int64"
     },
     "metadata": {},
     "execution_count": 47
    }
   ],
   "source": [
    "data_label_processed"
   ]
  },
  {
   "cell_type": "code",
   "execution_count": 49,
   "metadata": {},
   "outputs": [],
   "source": [
    "d_west_idx = [i for (i,j) in enumerate(data_label_processed.tolist()) if j == 1]\n",
    "d_east_idx = [i for (i,j) in enumerate(data_label_processed.tolist()) if j == 2]\n",
    "d_middle_idx = [i for (i,j) in enumerate(data_label_processed.tolist()) if j == 0]"
   ]
  },
  {
   "cell_type": "code",
   "execution_count": 57,
   "metadata": {},
   "outputs": [],
   "source": [
    "data_train_processed_west = data_train_processed.to_numpy()[d_west_idx]\n",
    "data_label_processed_west = data_label_processed.to_numpy()[d_west_idx]\n",
    "data_train_processed_east = data_train_processed.to_numpy()[d_east_idx]\n",
    "data_label_processed_east = data_label_processed.to_numpy()[d_east_idx]\n",
    "data_train_processed_middle = data_train_processed.to_numpy()[d_middle_idx]\n",
    "data_label_processed_middle = data_label_processed.to_numpy()[d_middle_idx]"
   ]
  },
  {
   "cell_type": "code",
   "execution_count": 62,
   "metadata": {},
   "outputs": [
    {
     "output_type": "stream",
     "name": "stdout",
     "text": "Average Accuracy: 0.8302411873840445\nBreak down\nWest: 0.4375\nEast: 0.8367346938775511\nMiddle: 0.75\n"
    }
   ],
   "source": [
    "total_scores = []\n",
    "X_data = data_train_processed.to_numpy()\n",
    "y_data = data_label_processed.to_numpy()\n",
    "sm = KMeansSMOTE(k_neighbors=2)\n",
    "X_data_res, y_data_res = sm.fit_resample(X_data, y_data)\n",
    "for _ in range(10):\n",
    "    rnd = np.random.permutation(len(y_data_res))\n",
    "    X = X_data_res[rnd]\n",
    "    y = y_data_res[rnd]\n",
    "    scores = cross_val_score(KNeighborsClassifier(), X, y, cv=7)\n",
    "    total_scores.append(scores)\n",
    "a = [x.mean() for x in total_scores]\n",
    "best_knn = KNeighborsClassifier().fit(X_data_res, y_data_res)\n",
    "print(\"Average Accuracy: {}\".format(sum(a) / len(a)))\n",
    "print(\"Break down\")\n",
    "print(\"West: {}\".format(best_knn.score(data_train_processed_west, data_label_processed_west)))\n",
    "print(\"East: {}\".format(best_knn.score(data_train_processed_east, data_label_processed_east)))\n",
    "print(\"Middle: {}\".format(best_knn.score(data_train_processed_middle, data_label_processed_middle)))"
   ]
  }
 ],
 "metadata": {
  "language_info": {
   "name": "python",
   "codemirror_mode": {
    "name": "ipython",
    "version": 3
   },
   "version": "3.6.8-final"
  },
  "orig_nbformat": 2,
  "file_extension": ".py",
  "mimetype": "text/x-python",
  "name": "python",
  "npconvert_exporter": "python",
  "pygments_lexer": "ipython3",
  "version": 3,
  "kernelspec": {
   "name": "34b72464-50c4-4ef0-adae-2cc4809be564",
   "display_name": "'Python Interactive'"
  }
 },
 "nbformat": 4,
 "nbformat_minor": 2
}